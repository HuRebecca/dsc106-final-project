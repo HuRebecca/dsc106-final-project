{
 "cells": [
  {
   "cell_type": "code",
   "execution_count": 1,
   "metadata": {},
   "outputs": [],
   "source": [
    "import numpy as np\n",
    "import pandas as pd\n",
    "import matplotlib.pyplot as plt"
   ]
  },
  {
   "cell_type": "code",
   "execution_count": 4,
   "metadata": {},
   "outputs": [],
   "source": [
    "df = pd.read_csv('data/FAOSTAT_data_12-6-2019.csv')"
   ]
  },
  {
   "cell_type": "code",
   "execution_count": 5,
   "metadata": {},
   "outputs": [
    {
     "data": {
      "text/html": [
       "<div>\n",
       "<style scoped>\n",
       "    .dataframe tbody tr th:only-of-type {\n",
       "        vertical-align: middle;\n",
       "    }\n",
       "\n",
       "    .dataframe tbody tr th {\n",
       "        vertical-align: top;\n",
       "    }\n",
       "\n",
       "    .dataframe thead th {\n",
       "        text-align: right;\n",
       "    }\n",
       "</style>\n",
       "<table border=\"1\" class=\"dataframe\">\n",
       "  <thead>\n",
       "    <tr style=\"text-align: right;\">\n",
       "      <th></th>\n",
       "      <th>Domain Code</th>\n",
       "      <th>Domain</th>\n",
       "      <th>Area Code</th>\n",
       "      <th>Area</th>\n",
       "      <th>Element Code</th>\n",
       "      <th>Element</th>\n",
       "      <th>Item Code</th>\n",
       "      <th>Item</th>\n",
       "      <th>Year Code</th>\n",
       "      <th>Year</th>\n",
       "      <th>Unit</th>\n",
       "      <th>Value</th>\n",
       "      <th>Flag</th>\n",
       "      <th>Flag Description</th>\n",
       "    </tr>\n",
       "  </thead>\n",
       "  <tbody>\n",
       "    <tr>\n",
       "      <th>0</th>\n",
       "      <td>TP</td>\n",
       "      <td>Crops and livestock products</td>\n",
       "      <td>2</td>\n",
       "      <td>Afghanistan</td>\n",
       "      <td>5610</td>\n",
       "      <td>Import Quantity</td>\n",
       "      <td>515</td>\n",
       "      <td>Apples</td>\n",
       "      <td>1961</td>\n",
       "      <td>1961</td>\n",
       "      <td>tonnes</td>\n",
       "      <td>0.0</td>\n",
       "      <td>NaN</td>\n",
       "      <td>Official data</td>\n",
       "    </tr>\n",
       "    <tr>\n",
       "      <th>1</th>\n",
       "      <td>TP</td>\n",
       "      <td>Crops and livestock products</td>\n",
       "      <td>2</td>\n",
       "      <td>Afghanistan</td>\n",
       "      <td>5610</td>\n",
       "      <td>Import Quantity</td>\n",
       "      <td>515</td>\n",
       "      <td>Apples</td>\n",
       "      <td>1962</td>\n",
       "      <td>1962</td>\n",
       "      <td>tonnes</td>\n",
       "      <td>0.0</td>\n",
       "      <td>NaN</td>\n",
       "      <td>Official data</td>\n",
       "    </tr>\n",
       "    <tr>\n",
       "      <th>2</th>\n",
       "      <td>TP</td>\n",
       "      <td>Crops and livestock products</td>\n",
       "      <td>2</td>\n",
       "      <td>Afghanistan</td>\n",
       "      <td>5610</td>\n",
       "      <td>Import Quantity</td>\n",
       "      <td>515</td>\n",
       "      <td>Apples</td>\n",
       "      <td>1963</td>\n",
       "      <td>1963</td>\n",
       "      <td>tonnes</td>\n",
       "      <td>0.0</td>\n",
       "      <td>NaN</td>\n",
       "      <td>Official data</td>\n",
       "    </tr>\n",
       "    <tr>\n",
       "      <th>3</th>\n",
       "      <td>TP</td>\n",
       "      <td>Crops and livestock products</td>\n",
       "      <td>2</td>\n",
       "      <td>Afghanistan</td>\n",
       "      <td>5610</td>\n",
       "      <td>Import Quantity</td>\n",
       "      <td>515</td>\n",
       "      <td>Apples</td>\n",
       "      <td>1964</td>\n",
       "      <td>1964</td>\n",
       "      <td>tonnes</td>\n",
       "      <td>0.0</td>\n",
       "      <td>NaN</td>\n",
       "      <td>Official data</td>\n",
       "    </tr>\n",
       "    <tr>\n",
       "      <th>4</th>\n",
       "      <td>TP</td>\n",
       "      <td>Crops and livestock products</td>\n",
       "      <td>2</td>\n",
       "      <td>Afghanistan</td>\n",
       "      <td>5610</td>\n",
       "      <td>Import Quantity</td>\n",
       "      <td>515</td>\n",
       "      <td>Apples</td>\n",
       "      <td>1965</td>\n",
       "      <td>1965</td>\n",
       "      <td>tonnes</td>\n",
       "      <td>0.0</td>\n",
       "      <td>NaN</td>\n",
       "      <td>Official data</td>\n",
       "    </tr>\n",
       "  </tbody>\n",
       "</table>\n",
       "</div>"
      ],
      "text/plain": [
       "  Domain Code                        Domain  Area Code         Area  \\\n",
       "0          TP  Crops and livestock products          2  Afghanistan   \n",
       "1          TP  Crops and livestock products          2  Afghanistan   \n",
       "2          TP  Crops and livestock products          2  Afghanistan   \n",
       "3          TP  Crops and livestock products          2  Afghanistan   \n",
       "4          TP  Crops and livestock products          2  Afghanistan   \n",
       "\n",
       "   Element Code          Element  Item Code    Item  Year Code  Year    Unit  \\\n",
       "0          5610  Import Quantity        515  Apples       1961  1961  tonnes   \n",
       "1          5610  Import Quantity        515  Apples       1962  1962  tonnes   \n",
       "2          5610  Import Quantity        515  Apples       1963  1963  tonnes   \n",
       "3          5610  Import Quantity        515  Apples       1964  1964  tonnes   \n",
       "4          5610  Import Quantity        515  Apples       1965  1965  tonnes   \n",
       "\n",
       "   Value Flag Flag Description  \n",
       "0    0.0  NaN    Official data  \n",
       "1    0.0  NaN    Official data  \n",
       "2    0.0  NaN    Official data  \n",
       "3    0.0  NaN    Official data  \n",
       "4    0.0  NaN    Official data  "
      ]
     },
     "execution_count": 5,
     "metadata": {},
     "output_type": "execute_result"
    }
   ],
   "source": [
    "df.head()"
   ]
  },
  {
   "cell_type": "code",
   "execution_count": 6,
   "metadata": {},
   "outputs": [
    {
     "data": {
      "text/plain": [
       "Import Value       68464\n",
       "Import Quantity    68358\n",
       "Export Quantity    54663\n",
       "Export Value       54556\n",
       "Name: Element, dtype: int64"
      ]
     },
     "execution_count": 6,
     "metadata": {},
     "output_type": "execute_result"
    }
   ],
   "source": [
    "df.Element.value_counts()"
   ]
  },
  {
   "cell_type": "code",
   "execution_count": 7,
   "metadata": {},
   "outputs": [
    {
     "data": {
      "text/plain": [
       "tonnes      123021\n",
       "1000 US$    123020\n",
       "Name: Unit, dtype: int64"
      ]
     },
     "execution_count": 7,
     "metadata": {},
     "output_type": "execute_result"
    }
   ],
   "source": [
    "df.Unit.value_counts()"
   ]
  },
  {
   "cell_type": "markdown",
   "metadata": {},
   "source": [
    "### FRUIT PIE CHART DATA"
   ]
  },
  {
   "cell_type": "code",
   "execution_count": 8,
   "metadata": {},
   "outputs": [],
   "source": [
    "import_quant = df[(df['Element'] == 'Import Quantity')]\n",
    "total_import_quants = import_quant.groupby(['Item']).sum()['Value']"
   ]
  },
  {
   "cell_type": "code",
   "execution_count": 11,
   "metadata": {},
   "outputs": [],
   "source": [
    "total_import_quants.to_csv('fruit_quantity_pie.csv', index = True, header = False)"
   ]
  },
  {
   "cell_type": "code",
   "execution_count": 20,
   "metadata": {},
   "outputs": [
    {
     "data": {
      "text/plain": [
       "([<matplotlib.patches.Wedge at 0x26ab0a3d550>,\n",
       "  <matplotlib.patches.Wedge at 0x26ab0a3da58>,\n",
       "  <matplotlib.patches.Wedge at 0x26ab0a3df98>,\n",
       "  <matplotlib.patches.Wedge at 0x26ab0a46518>,\n",
       "  <matplotlib.patches.Wedge at 0x26ab0a46a58>,\n",
       "  <matplotlib.patches.Wedge at 0x26ab0a46f60>,\n",
       "  <matplotlib.patches.Wedge at 0x26ab0a4d4e0>,\n",
       "  <matplotlib.patches.Wedge at 0x26ab0a4da20>],\n",
       " [Text(0.919632,0.603554,'Apples'),\n",
       "  Text(-0.895855,0.638313,'Bananas'),\n",
       "  Text(-0.806694,-0.747826,'Blueberries'),\n",
       "  Text(-0.78596,-0.769588,'Cherries'),\n",
       "  Text(-0.541814,-0.957308,'Grapes'),\n",
       "  Text(-0.0964044,-1.09577,'Lemons and limes'),\n",
       "  Text(0.691529,-0.855446,'Oranges'),\n",
       "  Text(1.08835,-0.159697,'Watermelons')])"
      ]
     },
     "execution_count": 20,
     "metadata": {},
     "output_type": "execute_result"
    },
    {
     "data": {
      "image/png": "[encoded data removed]",
      "text/plain": [
       "<Figure size 432x288 with 1 Axes>"
      ]
     },
     "metadata": {},
     "output_type": "display_data"
    }
   ],
   "source": [
    "plt.pie(total_import_quants, labels = total_import_quants.index)"
   ]
  },
  {
   "cell_type": "code",
   "execution_count": 12,
   "metadata": {},
   "outputs": [],
   "source": [
    "import_val = df[(df['Element'] == 'Import Value')]\n",
    "total_import_vals = import_val.groupby(['Item']).sum()['Value'] # Units in 1000 US $"
   ]
  },
  {
   "cell_type": "code",
   "execution_count": 17,
   "metadata": {},
   "outputs": [],
   "source": [
    "total_import_vals.to_csv('fruit_value_pie.csv', index = True, header = False)"
   ]
  },
  {
   "cell_type": "code",
   "execution_count": 13,
   "metadata": {},
   "outputs": [
    {
     "data": {
      "text/plain": [
       "([<matplotlib.patches.Wedge at 0x26aaf985dd8>,\n",
       "  <matplotlib.patches.Wedge at 0x26aaf9912e8>,\n",
       "  <matplotlib.patches.Wedge at 0x26aaf9917b8>,\n",
       "  <matplotlib.patches.Wedge at 0x26aaf991cf8>,\n",
       "  <matplotlib.patches.Wedge at 0x26aaf99e278>,\n",
       "  <matplotlib.patches.Wedge at 0x26aaf99e7b8>,\n",
       "  <matplotlib.patches.Wedge at 0x26aaf99ecf8>,\n",
       "  <matplotlib.patches.Wedge at 0x26aaf9a9278>],\n",
       " [Text(0.907978,0.620948,'Apples'),\n",
       "  Text(-0.700313,0.84827,'Bananas'),\n",
       "  Text(-1.0737,-0.239081,'Blueberries'),\n",
       "  Text(-1.02169,-0.407617,'Cherries'),\n",
       "  Text(-0.526647,-0.965734,'Grapes'),\n",
       "  Text(0.283894,-1.06273,'Lemons and limes'),\n",
       "  Text(0.880453,-0.659395,'Oranges'),\n",
       "  Text(1.0962,-0.0913568,'Watermelons')])"
      ]
     },
     "execution_count": 13,
     "metadata": {},
     "output_type": "execute_result"
    },
    {
     "data": {
      "image/png": "[encoded data removed]",
      "text/plain": [
       "<Figure size 432x288 with 1 Axes>"
      ]
     },
     "metadata": {},
     "output_type": "display_data"
    }
   ],
   "source": [
    "plt.pie(total_import_vals, labels = total_import_vals.index)"
   ]
  },
  {
   "cell_type": "markdown",
   "metadata": {},
   "source": [
    "### POTASSIUM BAR CHART DATA"
   ]
  },
  {
   "cell_type": "code",
   "execution_count": 29,
   "metadata": {},
   "outputs": [
    {
     "data": {
      "text/plain": [
       "Apples              195\n",
       "Bananas             422\n",
       "Blueberries         114\n",
       "Cherries            268\n",
       "Grapes              176\n",
       "Lemons and limes     80\n",
       "Oranges             237\n",
       "Watermelons         314\n",
       "dtype: int64"
      ]
     },
     "execution_count": 29,
     "metadata": {},
     "output_type": "execute_result"
    }
   ],
   "source": [
    "#Units in mg, potassium per 1 serving of fruit\n",
    "potassium_data = pd.Series([195, 422, 114, 268, 176, 80, 237, 314],\n",
    "                           index = ['Apples', 'Bananas', 'Blueberries', 'Cherries', 'Grapes',\n",
    "                                    'Lemons and limes', 'Oranges', 'Watermelons']) \n",
    "potassium_data"
   ]
  },
  {
   "cell_type": "code",
   "execution_count": 30,
   "metadata": {},
   "outputs": [
    {
     "data": {
      "text/plain": [
       "<BarContainer object of 8 artists>"
      ]
     },
     "execution_count": 30,
     "metadata": {},
     "output_type": "execute_result"
    },
    {
     "data": {
      "image/png": "[encoded data removed]",
      "text/plain": [
       "<Figure size 432x288 with 1 Axes>"
      ]
     },
     "metadata": {},
     "output_type": "display_data"
    }
   ],
   "source": [
    "plt.barh(y = potassium_data.index, width = potassium_data)"
   ]
  },
  {
   "cell_type": "code",
   "execution_count": 31,
   "metadata": {},
   "outputs": [],
   "source": [
    "potassium_data.to_csv('potassium_bar.csv', index = True, header = False)"
   ]
  },
  {
   "cell_type": "markdown",
   "metadata": {},
   "source": [
    "### BANANA ECONOMY LINE CHART DATA"
   ]
  },
  {
   "cell_type": "code",
   "execution_count": 32,
   "metadata": {},
   "outputs": [
    {
     "data": {
      "text/html": [
       "<div>\n",
       "<style scoped>\n",
       "    .dataframe tbody tr th:only-of-type {\n",
       "        vertical-align: middle;\n",
       "    }\n",
       "\n",
       "    .dataframe tbody tr th {\n",
       "        vertical-align: top;\n",
       "    }\n",
       "\n",
       "    .dataframe thead th {\n",
       "        text-align: right;\n",
       "    }\n",
       "</style>\n",
       "<table border=\"1\" class=\"dataframe\">\n",
       "  <thead>\n",
       "    <tr style=\"text-align: right;\">\n",
       "      <th></th>\n",
       "      <th>Domain Code</th>\n",
       "      <th>Domain</th>\n",
       "      <th>Area Code</th>\n",
       "      <th>Area</th>\n",
       "      <th>Element Code</th>\n",
       "      <th>Element</th>\n",
       "      <th>Item Code</th>\n",
       "      <th>Item</th>\n",
       "      <th>Year Code</th>\n",
       "      <th>Year</th>\n",
       "      <th>Unit</th>\n",
       "      <th>Value</th>\n",
       "      <th>Flag</th>\n",
       "      <th>Flag Description</th>\n",
       "    </tr>\n",
       "  </thead>\n",
       "  <tbody>\n",
       "    <tr>\n",
       "      <th>0</th>\n",
       "      <td>TP</td>\n",
       "      <td>Crops and livestock products</td>\n",
       "      <td>2</td>\n",
       "      <td>Afghanistan</td>\n",
       "      <td>5610</td>\n",
       "      <td>Import Quantity</td>\n",
       "      <td>515</td>\n",
       "      <td>Apples</td>\n",
       "      <td>1961</td>\n",
       "      <td>1961</td>\n",
       "      <td>tonnes</td>\n",
       "      <td>0.0</td>\n",
       "      <td>NaN</td>\n",
       "      <td>Official data</td>\n",
       "    </tr>\n",
       "    <tr>\n",
       "      <th>1</th>\n",
       "      <td>TP</td>\n",
       "      <td>Crops and livestock products</td>\n",
       "      <td>2</td>\n",
       "      <td>Afghanistan</td>\n",
       "      <td>5610</td>\n",
       "      <td>Import Quantity</td>\n",
       "      <td>515</td>\n",
       "      <td>Apples</td>\n",
       "      <td>1962</td>\n",
       "      <td>1962</td>\n",
       "      <td>tonnes</td>\n",
       "      <td>0.0</td>\n",
       "      <td>NaN</td>\n",
       "      <td>Official data</td>\n",
       "    </tr>\n",
       "    <tr>\n",
       "      <th>2</th>\n",
       "      <td>TP</td>\n",
       "      <td>Crops and livestock products</td>\n",
       "      <td>2</td>\n",
       "      <td>Afghanistan</td>\n",
       "      <td>5610</td>\n",
       "      <td>Import Quantity</td>\n",
       "      <td>515</td>\n",
       "      <td>Apples</td>\n",
       "      <td>1963</td>\n",
       "      <td>1963</td>\n",
       "      <td>tonnes</td>\n",
       "      <td>0.0</td>\n",
       "      <td>NaN</td>\n",
       "      <td>Official data</td>\n",
       "    </tr>\n",
       "    <tr>\n",
       "      <th>3</th>\n",
       "      <td>TP</td>\n",
       "      <td>Crops and livestock products</td>\n",
       "      <td>2</td>\n",
       "      <td>Afghanistan</td>\n",
       "      <td>5610</td>\n",
       "      <td>Import Quantity</td>\n",
       "      <td>515</td>\n",
       "      <td>Apples</td>\n",
       "      <td>1964</td>\n",
       "      <td>1964</td>\n",
       "      <td>tonnes</td>\n",
       "      <td>0.0</td>\n",
       "      <td>NaN</td>\n",
       "      <td>Official data</td>\n",
       "    </tr>\n",
       "    <tr>\n",
       "      <th>4</th>\n",
       "      <td>TP</td>\n",
       "      <td>Crops and livestock products</td>\n",
       "      <td>2</td>\n",
       "      <td>Afghanistan</td>\n",
       "      <td>5610</td>\n",
       "      <td>Import Quantity</td>\n",
       "      <td>515</td>\n",
       "      <td>Apples</td>\n",
       "      <td>1965</td>\n",
       "      <td>1965</td>\n",
       "      <td>tonnes</td>\n",
       "      <td>0.0</td>\n",
       "      <td>NaN</td>\n",
       "      <td>Official data</td>\n",
       "    </tr>\n",
       "  </tbody>\n",
       "</table>\n",
       "</div>"
      ],
      "text/plain": [
       "  Domain Code                        Domain  Area Code         Area  \\\n",
       "0          TP  Crops and livestock products          2  Afghanistan   \n",
       "1          TP  Crops and livestock products          2  Afghanistan   \n",
       "2          TP  Crops and livestock products          2  Afghanistan   \n",
       "3          TP  Crops and livestock products          2  Afghanistan   \n",
       "4          TP  Crops and livestock products          2  Afghanistan   \n",
       "\n",
       "   Element Code          Element  Item Code    Item  Year Code  Year    Unit  \\\n",
       "0          5610  Import Quantity        515  Apples       1961  1961  tonnes   \n",
       "1          5610  Import Quantity        515  Apples       1962  1962  tonnes   \n",
       "2          5610  Import Quantity        515  Apples       1963  1963  tonnes   \n",
       "3          5610  Import Quantity        515  Apples       1964  1964  tonnes   \n",
       "4          5610  Import Quantity        515  Apples       1965  1965  tonnes   \n",
       "\n",
       "   Value Flag Flag Description  \n",
       "0    0.0  NaN    Official data  \n",
       "1    0.0  NaN    Official data  \n",
       "2    0.0  NaN    Official data  \n",
       "3    0.0  NaN    Official data  \n",
       "4    0.0  NaN    Official data  "
      ]
     },
     "execution_count": 32,
     "metadata": {},
     "output_type": "execute_result"
    }
   ],
   "source": [
    "df.head()"
   ]
  },
  {
   "cell_type": "code",
   "execution_count": 33,
   "metadata": {},
   "outputs": [],
   "source": [
    "export_val = df[(df['Element'] == 'Export Value') & (df['Item'] == 'Bananas')]\n",
    "total_export_vals = export_val.groupby(['Year']).sum()['Value']"
   ]
  },
  {
   "cell_type": "code",
   "execution_count": 35,
   "metadata": {},
   "outputs": [
    {
     "data": {
      "text/plain": [
       "[<matplotlib.lines.Line2D at 0x26ab0590e48>]"
      ]
     },
     "execution_count": 35,
     "metadata": {},
     "output_type": "execute_result"
    },
    {
     "data": {
      "image/png": "[encoded data removed]",
      "text/plain": [
       "<Figure size 432x288 with 1 Axes>"
      ]
     },
     "metadata": {},
     "output_type": "display_data"
    }
   ],
   "source": [
    "plt.plot(total_export_vals)"
   ]
  },
  {
   "cell_type": "code",
   "execution_count": 36,
   "metadata": {},
   "outputs": [],
   "source": [
    "total_export_vals.to_csv('banana_sales_line.csv', index = True, header = False)"
   ]
  },
  {
   "cell_type": "code",
   "execution_count": null,
   "metadata": {},
   "outputs": [],
   "source": []
  },
  {
   "cell_type": "code",
   "execution_count": null,
   "metadata": {},
   "outputs": [],
   "source": []
  },
  {
   "cell_type": "code",
   "execution_count": null,
   "metadata": {},
   "outputs": [],
   "source": []
  },
  {
   "cell_type": "code",
   "execution_count": null,
   "metadata": {},
   "outputs": [],
   "source": []
  },
  {
   "cell_type": "code",
   "execution_count": null,
   "metadata": {},
   "outputs": [],
   "source": []
  }
 ],
 "metadata": {
  "kernelspec": {
   "display_name": "Python 3",
   "language": "python",
   "name": "python3"
  },
  "language_info": {
   "codemirror_mode": {
    "name": "ipython",
    "version": 3
   },
   "file_extension": ".py",
   "mimetype": "text/x-python",
   "name": "python",
   "nbconvert_exporter": "python",
   "pygments_lexer": "ipython3",
   "version": "3.6.5"
  }
 },
 "nbformat": 4,
 "nbformat_minor": 2
}
